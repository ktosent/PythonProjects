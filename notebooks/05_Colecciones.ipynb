{
 "cells": [
  {
   "cell_type": "markdown",
   "metadata": {},
   "source": [
    "# 5) Colecciones: listas, tuplas y diccionarios\n",
    "\n",
    "## ¿Qué son?\n",
    "Estructuras para **agrupar datos**: secuencias (`list`, `tuple`) y mapeos (`dict`).\n",
    "\n",
    "## ¿Para qué se usan?\n",
    "Para **organizar, acceder y transformar** conjuntos de valores.\n",
    "\n",
    "## Puntos clave\n",
    "- `list` (mutable) — métodos como `append`, `pop`, `sort`.\n",
    "- `tuple` (inmutable) — útil para datos que no cambian.\n",
    "- `dict` (clave→valor) — acceso por clave y métodos `.items()`, `.keys()`.\n"
   ]
  },
  {
   "cell_type": "code",
   "execution_count": null,
   "metadata": {},
   "outputs": [],
   "source": [
    "comidas = [\"arepa\", \"ajiaco\", \"bandeja\"]\n",
    "comidas.append(\"sancocho\")\n",
    "print(\"Lista:\", comidas)\n",
    "\n",
    "punto = (10, 20)\n",
    "print(\"Tupla:\", punto[0], punto[1])\n",
    "\n",
    "persona = {\"nombre\": \"Ada\", \"edad\": 28, \"ciudad\": \"Bogotá\"}\n",
    "persona[\"edad\"] += 1\n",
    "for k, v in persona.items():\n",
    "    print(k, \"->\", v)\n"
   ]
  },
  {
   "cell_type": "markdown",
   "metadata": {},
   "source": [
    "### Ejercicios\n",
    "- E1: Lista de 5 números, calcula suma y promedio.\n",
    "- E2: Diccionario de 3 contactos (nombre→tel), consulta por nombre.\n",
    "- E3: Convierte lista de pares `(clave, valor)` en `dict` y recórrelo.\n",
    "\n",
    "### Reto extra\n",
    "**Inventario simple**: lista de dicts con `{\"producto\",\"precio\",\"stock\"}`. Muestra:\n",
    "- Total del inventario.\n",
    "- Producto más caro.\n"
   ]
  },
  {
   "cell_type": "code",
   "execution_count": 25,
   "id": "2cfe1763",
   "metadata": {},
   "outputs": [
    {
     "name": "stdout",
     "output_type": "stream",
     "text": [
      "El promedio es: 2.75\n",
      "[2, 1, 5, 3]\n"
     ]
    }
   ],
   "source": [
    "texto=input(\"Ingrese un texto separado por comas: \")\n",
    "partes=texto.split(',')\n",
    "partes=[int(x) for x in partes]\n",
    "lista=partes \n",
    "partes=sum(partes)/len(partes)\n",
    "print(\"El promedio es:\", partes)\n",
    "print(lista)\n"
   ]
  },
  {
   "cell_type": "code",
   "execution_count": null,
   "id": "9e1fd799",
   "metadata": {},
   "outputs": [],
   "source": []
  }
 ],
 "metadata": {
  "kernelspec": {
   "display_name": "Python 3",
   "language": "python",
   "name": "python3"
  },
  "language_info": {
   "codemirror_mode": {
    "name": "ipython",
    "version": 3
   },
   "file_extension": ".py",
   "mimetype": "text/x-python",
   "name": "python",
   "nbconvert_exporter": "python",
   "pygments_lexer": "ipython3",
   "version": "3.11.9"
  }
 },
 "nbformat": 4,
 "nbformat_minor": 5
}
