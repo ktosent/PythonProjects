{
 "cells": [
  {
   "cell_type": "markdown",
   "metadata": {},
   "source": [
    "# 4) Estructuras de control: `if`, `for`, `while`\n",
    "\n",
    "## ¿Qué son?\n",
    "Mecanismos para **tomar decisiones** (`if`) y **repetir acciones** (`for`, `while`).\n",
    "\n",
    "## ¿Para qué se usan?\n",
    "Para **controlar el flujo** de un programa según condiciones y colecciones.\n",
    "\n",
    "## Ideas clave\n",
    "- La **indentación** define bloques.\n",
    "- `for` itera sobre secuencias; `range(n)` genera 0..n-1.\n",
    "- `while` repite mientras la condición sea verdadera.\n",
    "- `break`/`continue` controlan el bucle.\n"
   ]
  },
  {
   "cell_type": "code",
   "execution_count": 8,
   "metadata": {},
   "outputs": [
    {
     "name": "stdout",
     "output_type": "stream",
     "text": [
      "Impar\n",
      "Suma 1..10: 55\n",
      "5\n",
      "4\n",
      "3\n",
      "2\n",
      "1\n"
     ]
    }
   ],
   "source": [
    "# Par o impar\n",
    "n = 7\n",
    "if n % 2 == 0:\n",
    "    print(\"Par\")\n",
    "else:\n",
    "    print(\"Impar\")\n",
    "\n",
    "# Suma 1..10\n",
    "total = 0\n",
    "for i in range(1, 11):\n",
    "    total += i\n",
    "print(\"Suma 1..10:\", total)\n",
    "\n",
    "# Cuenta regresiva con while\n",
    "c = 5\n",
    "while c > 0:\n",
    "    print(c)\n",
    "    c -= 1\n"
   ]
  },
  {
   "cell_type": "markdown",
   "metadata": {},
   "source": [
    "### Ejercicios\n",
    "- E1: Clasifica una nota (0–100) en A/B/C/D/F.\n",
    "- E2: Imprime la tabla de multiplicar de un número (1–10).\n",
    "- E3: Con `while`, pide números hasta 0; muestra suma y promedio.\n",
    "\n",
    "### Reto extra\n",
    "**FizzBuzz** de 1 a 100.\n"
   ]
  },
  {
   "cell_type": "code",
   "execution_count": 21,
   "id": "95c509bd",
   "metadata": {},
   "outputs": [
    {
     "ename": "ValueError",
     "evalue": "invalid literal for int() with base 10: ''",
     "output_type": "error",
     "traceback": [
      "\u001b[31m---------------------------------------------------------------------------\u001b[39m",
      "\u001b[31mValueError\u001b[39m                                Traceback (most recent call last)",
      "\u001b[36mCell\u001b[39m\u001b[36m \u001b[39m\u001b[32mIn[21]\u001b[39m\u001b[32m, line 1\u001b[39m\n\u001b[32m----> \u001b[39m\u001b[32m1\u001b[39m nota=\u001b[38;5;28;43mint\u001b[39;49m\u001b[43m(\u001b[49m\u001b[38;5;28;43minput\u001b[39;49m\u001b[43m(\u001b[49m\u001b[33;43m\"\u001b[39;49m\u001b[33;43mIngrese la nota: \u001b[39;49m\u001b[33;43m\"\u001b[39;49m\u001b[43m)\u001b[49m\u001b[43m)\u001b[49m\n\u001b[32m      2\u001b[39m \u001b[38;5;28;01mif\u001b[39;00m nota>\u001b[32m100\u001b[39m:\n\u001b[32m      3\u001b[39m     \u001b[38;5;28mprint\u001b[39m(\u001b[33m\"\u001b[39m\u001b[33mNota inválida\u001b[39m\u001b[33m\"\u001b[39m)\n",
      "\u001b[31mValueError\u001b[39m: invalid literal for int() with base 10: ''"
     ]
    }
   ],
   "source": [
    "nota=int(input(\"Ingrese la nota: \"))\n",
    "if nota>100:\n",
    "    print(\"Nota inválida\")\n",
    "if nota>=81 and nota==100:\n",
    "    print(\"su nota es una A\")\n",
    "if nota>=61 and nota==80:\n",
    "    print(\"su nota es una B\")\n",
    "if nota>=41 and nota==60:\n",
    "    print(\"paso raspando\")\n",
    "if nota>=21 and nota==40:\n",
    "    print(\"su nota es una D\")\n",
    "if nota<=20:\n",
    "    print(\"a llorar a la lloreria\")\n",
    "#E2\n",
    "numero=int(input(\"Ingrese un número: \"))\n",
    "for tabla in range(1, 11):\n",
    "    print(f\"{numero} x {tabla} = {numero * tabla}\")\n",
    "#E3\n",
    "suma = 0\n",
    "contador = 0\n",
    "while True:\n",
    "    numero = int(input(\"Ingrese un número (0 para terminar): \"))\n",
    "    if numero == 0:\n",
    "        break\n",
    "    suma += numero\n",
    "    contador += 1\n",
    "if contador > 0:\n",
    "    promedio = suma / contador\n",
    "    print(\"Suma:\", suma)\n",
    "    print(\"Promedio:\", promedio)\n",
    "else:\n",
    "    print(\"No se ingresaron números.\")"
   ]
  }
 ],
 "metadata": {
  "kernelspec": {
   "display_name": "Python 3",
   "language": "python",
   "name": "python3"
  },
  "language_info": {
   "codemirror_mode": {
    "name": "ipython",
    "version": 3
   },
   "file_extension": ".py",
   "mimetype": "text/x-python",
   "name": "python",
   "nbconvert_exporter": "python",
   "pygments_lexer": "ipython3",
   "version": "3.11.9"
  }
 },
 "nbformat": 4,
 "nbformat_minor": 5
}
