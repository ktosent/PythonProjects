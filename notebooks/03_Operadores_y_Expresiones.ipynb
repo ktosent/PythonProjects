{
 "cells": [
  {
   "cell_type": "markdown",
   "metadata": {},
   "source": [
    "# 3) Operadores y expresiones\n",
    "\n",
    "## ¿Qué son?\n",
    "Los **operadores** combinan valores para producir un resultado (*expresiones*).\n",
    "\n",
    "## ¿Para qué se usan?\n",
    "Para **calcular, comparar y tomar decisiones**. Son la base de toda lógica.\n",
    "\n",
    "## Familias principales\n",
    "- Aritméticos: `+ - * / // % **`\n",
    "- Comparación: `== != > < >= <=`\n",
    "- Lógicos: `and or not`\n",
    "- Precedencia: paréntesis > potencias > multiplicación/división > suma/resta\n"
   ]
  },
  {
   "cell_type": "code",
   "execution_count": null,
   "metadata": {},
   "outputs": [],
   "source": [
    "a, b = 10, 3\n",
    "print(\"Aritméticos:\", a + b, a - b, a * b, a / b, a // b, a % b, a ** b)\n",
    "print(\"Comparación:\", a == b, a != b, a > b, a <= b)\n",
    "x, y = True, False\n",
    "print(\"Lógicos:\", x and y, x or y, not x)\n"
   ]
  },
  {
   "cell_type": "markdown",
   "metadata": {},
   "source": [
    "### Ejercicios\n",
    "- E1: Área de un círculo con `pi=3.14159` y radio fijo.\n",
    "- E2: Verifica si un número es múltiplo de 3 y 5.\n",
    "- E3: Evalúa si una edad está en el rango 18–65.\n",
    "\n",
    "### Reto extra\n",
    "Calculadora por consola que reciba `a`, `b` y una operación, y muestre el resultado.\n"
   ]
  },
  {
   "cell_type": "code",
   "execution_count": null,
   "id": "91f03f49",
   "metadata": {},
   "outputs": [
    {
     "name": "stdout",
     "output_type": "stream",
     "text": [
      "El área del círculo es: 8171.275589999999\n",
      "78525 es múltiplo de 3\n",
      "78525 es múltiplo de 5\n",
      "no esta en el rango\n"
     ]
    }
   ],
   "source": [
    "radio=float(input(\"Ingrese el radio del círculo: \"))\n",
    "area=3.14159*radio**2\n",
    "print(\"El área del círculo es:\", area)\n",
    "#E2\n",
    "num1=str(input(\"Ingrese el número: \"))\n",
    "recorrido = num1[::-1]\n",
    "suma = sum(int(num1) for digito in recorrido)\n",
    "if suma % 3 == 0:\n",
    "    print(num1, \"es múltiplo de 3\")\n",
    "if suma % 5 == 0:\n",
    "    print(num1, \"es múltiplo de 5\")\n",
    "else :\n",
    "    print(num1, \"no es múltiplo de 3 ni 5\")\n",
    "#E3\n",
    "edad=int(input(\"Ingrese su edad: \"))\n",
    "if edad < 18 and edad >=65:\n",
    "    print(\"la edad si esta en el rango\", edad)\n",
    "else:\n",
    "    print(\"la edad no esta en el rango\", edad)"
   ]
  },
  {
   "cell_type": "code",
   "execution_count": null,
   "metadata": {},
   "outputs": [],
   "source": [
    "# Pista: calculadora básica\n",
    "a, b, op = 12, 5, \"*\"\n",
    "if op == \"+\":\n",
    "    print(a + b)\n",
    "elif op == \"-\":\n",
    "    print(a - b)\n",
    "elif op == \"*\":\n",
    "    print(a * b)\n",
    "elif op == \"/\":\n",
    "    print(a / b)\n",
    "elif op == \"//\":\n",
    "    print(a // b)\n",
    "elif op == \"%\":\n",
    "    print(a % b)\n",
    "elif op == \"**\":\n",
    "    print(a ** b)\n",
    "else:\n",
    "    print(\"Operación no reconocida\")\n"
   ]
  }
 ],
 "metadata": {
  "kernelspec": {
   "display_name": "Python 3",
   "language": "python",
   "name": "python3"
  },
  "language_info": {
   "codemirror_mode": {
    "name": "ipython",
    "version": 3
   },
   "file_extension": ".py",
   "mimetype": "text/x-python",
   "name": "python",
   "nbconvert_exporter": "python",
   "pygments_lexer": "ipython3",
   "version": "3.11.9"
  }
 },
 "nbformat": 4,
 "nbformat_minor": 5
}
